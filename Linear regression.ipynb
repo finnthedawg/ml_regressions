{
 "cells": [
  {
   "cell_type": "code",
   "execution_count": 70,
   "metadata": {},
   "outputs": [],
   "source": [
    "#Import packages\n",
    "import numpy as np\n",
    "import os\n",
    "import matplotlib as mpl\n",
    "import matplotlib.pyplot as plt"
   ]
  },
  {
   "cell_type": "code",
   "execution_count": 71,
   "metadata": {},
   "outputs": [],
   "source": [
    "#Load file\n",
    "def parse_file(name):\n",
    "    data = []\n",
    "    f = open(name,\"r\")\n",
    "    line = f.readline().strip()\n",
    "    try:\n",
    "        line_list = list(map(float, [x for x in line.split(',')]))\n",
    "        data.append(line_list)\n",
    "    except ValueError:\n",
    "        print(\"A line \"+ line +\" could not be parsed\")\n",
    "    while(line):\n",
    "        line = f.readline().strip()\n",
    "        try:\n",
    "            line_list = list(map(float, [x for x in line.split(',')]))\n",
    "            data.append(line_list)\n",
    "        except ValueError:\n",
    "            print(\"A line \"+ line +\" could not be parsed\")\n",
    "    f.close()\n",
    "    return data"
   ]
  },
  {
   "cell_type": "code",
   "execution_count": 81,
   "metadata": {},
   "outputs": [
    {
     "name": "stdout",
     "output_type": "stream",
     "text": [
      "A line  could not be parsed\n"
     ]
    },
    {
     "data": {
      "image/png": "[encoded data removed]",
      "text/plain": [
       "<matplotlib.figure.Figure at 0x7f7c287fdc18>"
      ]
     },
     "metadata": {},
     "output_type": "display_data"
    }
   ],
   "source": [
    "data = parse_file(\"ex1data1.mat\")\n",
    "X = np.array([x[0] for x in data])\n",
    "y = np.array([x[1] for x in data])\n",
    "\n",
    "plt.plot(X,y, \"b.\")\n",
    "plt.title(\"Plot of data\")\n",
    "plt.xlabel(\"x1\")\n",
    "plt.ylabel(\"y\")\n",
    "plt.show()"
   ]
  },
  {
   "cell_type": "code",
   "execution_count": null,
   "metadata": {},
   "outputs": [],
   "source": []
  },
  {
   "cell_type": "code",
   "execution_count": null,
   "metadata": {},
   "outputs": [],
   "source": []
  }
 ],
 "metadata": {
  "kernelspec": {
   "display_name": "Python 3",
   "language": "python",
   "name": "python3"
  },
  "language_info": {
   "codemirror_mode": {
    "name": "ipython",
    "version": 3
   },
   "file_extension": ".py",
   "mimetype": "text/x-python",
   "name": "python",
   "nbconvert_exporter": "python",
   "pygments_lexer": "ipython3",
   "version": "3.5.2"
  }
 },
 "nbformat": 4,
 "nbformat_minor": 2
}
